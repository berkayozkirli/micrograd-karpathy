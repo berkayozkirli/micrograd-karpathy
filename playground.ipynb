{
 "cells": [
  {
   "cell_type": "code",
   "execution_count": 2,
   "metadata": {},
   "outputs": [],
   "source": [
    "from neural_lib.value import Value\n",
    "from neural_lib.neural import Neuron, Layer, NeuralNet\n",
    "\n",
    "import numpy as np\n",
    "import matplotlib.pyplot as plt\n",
    "%matplotlib inline"
   ]
  },
  {
   "cell_type": "code",
   "execution_count": null,
   "metadata": {},
   "outputs": [],
   "source": [
    "def plot_activation(function_name, range=10):\n",
    "    # Generate values for x\n",
    "    x = np.linspace(-1 * range, range, 100)\n",
    "\n",
    "    function_name = function_name.lower()\n",
    "    # Compute values for corresponding x\n",
    "    if(function_name == \"relu\"):\n",
    "        values = [Value(i).relu().data for i in x]\n",
    "    elif(function_name == \"tanh\"):\n",
    "        values = [Value(i).tanh().data for i in x]\n",
    "    elif(function_name == \"sigmoid\"):\n",
    "        values = [Value(i).sigmoid().data for i in x]\n",
    "    elif(function_name == \"swish\"):\n",
    "        values = [Value(i).swish().data for i in x]\n",
    "    else:\n",
    "        print(\"Function has not implemented yet.\")\n",
    "        return\n",
    "    # Plot the activation function\n",
    "    plt.plot(x, values)\n",
    "    plt.title(f\"{function_name.capitalize()} Activation Function\")\n",
    "    plt.xlabel(\"x\")\n",
    "    plt.ylabel(f\"{function_name}(x)\")\n",
    "    plt.grid(True)\n",
    "    plt.show()\n",
    "\n",
    "activation_function = str(input(\"Enter function here: \"))\n",
    "plot_activation(activation_function)"
   ]
  },
  {
   "cell_type": "code",
   "execution_count": 6,
   "metadata": {},
   "outputs": [
    {
     "name": "stdout",
     "output_type": "stream",
     "text": [
      "MLP of [Layer of [ReLUNeuron(2), ReLUNeuron(2), ReLUNeuron(2), ReLUNeuron(2), ReLUNeuron(2), ReLUNeuron(2), ReLUNeuron(2), ReLUNeuron(2), ReLUNeuron(2), ReLUNeuron(2), ReLUNeuron(2), ReLUNeuron(2), ReLUNeuron(2), ReLUNeuron(2), ReLUNeuron(2), ReLUNeuron(2)], Layer of [ReLUNeuron(16), ReLUNeuron(16), ReLUNeuron(16), ReLUNeuron(16), ReLUNeuron(16), ReLUNeuron(16), ReLUNeuron(16), ReLUNeuron(16), ReLUNeuron(16), ReLUNeuron(16), ReLUNeuron(16), ReLUNeuron(16), ReLUNeuron(16), ReLUNeuron(16), ReLUNeuron(16), ReLUNeuron(16)], Layer of [LinearNeuron(16)]]\n",
      "number of parameters 337\n"
     ]
    }
   ],
   "source": [
    "# initialize a model \n",
    "model = NeuralNet(2, [16, 16], 1) # 2-layer neural network\n",
    "print(model)\n",
    "print(\"number of parameters:\", len(model.parameters()))"
   ]
  }
 ],
 "metadata": {
  "kernelspec": {
   "display_name": "pytorch",
   "language": "python",
   "name": "python3"
  },
  "language_info": {
   "codemirror_mode": {
    "name": "ipython",
    "version": 3
   },
   "file_extension": ".py",
   "mimetype": "text/x-python",
   "name": "python",
   "nbconvert_exporter": "python",
   "pygments_lexer": "ipython3",
   "version": "3.9.18"
  }
 },
 "nbformat": 4,
 "nbformat_minor": 2
}
